{
 "cells": [
  {
   "cell_type": "code",
   "execution_count": 3,
   "id": "bb8537bc",
   "metadata": {},
   "outputs": [],
   "source": [
    "import os\n",
    "import sys\n",
    "import importlib\n",
    "\n",
    "# Thêm đường dẫn cho các module\n",
    "sys.path.append(os.path.join(os.path.dirname(os.getcwd()), 'import'))\n",
    "sys.path.append(os.path.join(os.path.dirname(os.getcwd()), 'module'))\n",
    "\n",
    "# Import các module\n",
    "import import_default\n",
    "import import_database  \n",
    "import import_other\n",
    "import clean_data\n",
    "import candle_chart\n",
    "\n",
    "importlib.reload(import_default)\n",
    "importlib.reload(import_database)\n",
    "importlib.reload(import_other)\n",
    "importlib.reload(clean_data)\n",
    "importlib.reload(candle_chart)\n",
    "\n",
    "from import_default import *\n",
    "from import_database import *\n",
    "from import_other import *\n",
    "from clean_data import *\n",
    "from candle_chart import *"
   ]
  },
  {
   "cell_type": "code",
   "execution_count": 7,
   "id": "a5f87fae",
   "metadata": {},
   "outputs": [],
   "source": [
    "main_stock = 'HCM'\n",
    "\n",
    "projection = {\n",
    "    \"_id\": 0,\n",
    "    \"date\": 1,\n",
    "    \"ticker\": 1,\n",
    "    \"close\": 1,\n",
    "    \"SMA_20\": 1,\n",
    "    \"SMA_60\": 1,\n",
    "    \"week_open\": 1,\n",
    "    \"month_prev_high\": 1,\n",
    "    \"month_prev_low\": 1,\n",
    "    \"month_open\": 1,\n",
    "    \"quarter_prev_high\": 1,\n",
    "    \"quarter_prev_low\": 1,\n",
    "    \"quarter_open\": 1,\n",
    "    \"year_open\": 1,\n",
    "    \"MFIBO_0382\": 1,\n",
    "    \"MFIBO_0618\": 1,\n",
    "\t\"YFIBO_0382\": 1,\n",
    "    \"YFIBO_0618\": 1,\n",
    "    \"MPIVOT_P\": 1,\n",
    "    \"YPIVOT_P\": 1\n",
    "}\n",
    "\n",
    "\n",
    "today_stock_df = get_mongo_collection(stock_db, \"today_stock\", find_query={\"ticker\": main_stock}, projection=projection)\n",
    "history_stock_df = get_mongo_collection(stock_db, \"history_stock\", find_query={\"ticker\": main_stock}, projection=projection)\n",
    "full_stock_ta_df = pd.concat([today_stock_df, history_stock_df], axis=0, ignore_index=True).iloc[:60]\n",
    "\n",
    "full_stock_ta_df.to_csv(f'../output/ptkt/{main_stock}.csv', index=False, encoding='utf-8-sig')"
   ]
  }
 ],
 "metadata": {
  "kernelspec": {
   "display_name": "base",
   "language": "python",
   "name": "python3"
  },
  "language_info": {
   "codemirror_mode": {
    "name": "ipython",
    "version": 3
   },
   "file_extension": ".py",
   "mimetype": "text/x-python",
   "name": "python",
   "nbconvert_exporter": "python",
   "pygments_lexer": "ipython3",
   "version": "3.12.7"
  }
 },
 "nbformat": 4,
 "nbformat_minor": 5
}
