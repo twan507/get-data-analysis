{
 "cells": [
  {
   "cell_type": "code",
   "execution_count": 1,
   "id": "58962d26",
   "metadata": {},
   "outputs": [],
   "source": [
    "import os\n",
    "import sys\n",
    "import importlib\n",
    "\n",
    "# Thêm đường dẫn cho các module\n",
    "sys.path.append(os.path.join(os.path.dirname(os.getcwd()), 'import'))\n",
    "sys.path.append(os.path.join(os.path.dirname(os.getcwd()), 'module'))\n",
    "\n",
    "# Import các module\n",
    "import import_default\n",
    "import import_database  \n",
    "import import_other\n",
    "import clean_data\n",
    "import candle_chart\n",
    "\n",
    "importlib.reload(import_default)\n",
    "importlib.reload(import_database)\n",
    "importlib.reload(import_other)\n",
    "importlib.reload(clean_data)\n",
    "importlib.reload(candle_chart)\n",
    "\n",
    "from import_default import *\n",
    "from import_database import *\n",
    "from import_other import *\n",
    "from clean_data import *\n",
    "from candle_chart import *"
   ]
  },
  {
   "cell_type": "code",
   "execution_count": 2,
   "id": "45a0b30b",
   "metadata": {},
   "outputs": [],
   "source": [
    "full_stock_classification_df = get_mongo_collection(ref_db, 'full_stock_classification')\n",
    "current_quarter_classification_df = get_mongo_collection(ref_db, 'current_quarter_classification')"
   ]
  },
  {
   "cell_type": "code",
   "execution_count": 69,
   "id": "c84974d0",
   "metadata": {},
   "outputs": [],
   "source": [
    "date_series = get_mongo_collection(ref_db, 'date_series')\n",
    "today = date_series.iloc[0]['date']\n",
    "projection={\"_id\": 0, 'date': 1, 'ticker': 1, 'vol_ratio': 1, 'W_MTSI': 1, 'M_MTSI': 1, 'Q_MTSI': 1, 'Y_MTSI': 1, 'W_MRVI': 1, 'M_MRVI': 1, 'Q_MRVI': 1, 'Y_MRVI': 1}\n",
    "\n",
    "today_stock_df = get_mongo_collection(stock_db, 'today_stock', projection=projection)\n",
    "history_stock_df = get_mongo_collection(stock_db, 'history_stock', projection=projection,\n",
    "                                        find_query={\"date\": {\"$in\": date_series['date'].iloc[:5].tolist()}})\n",
    "full_stock_df = pd.concat([today_stock_df, history_stock_df])\n",
    "stock_list = [\"SSI\", \"VIX\", \"VND\", \"VDS\", \"HCM\", \"SHS\", \"MBS\", \"CTS\", \"ORS\", \"VCI\", \"FTS\", \"BSI\", \"BVS\"]"
   ]
  },
  {
   "cell_type": "code",
   "execution_count": 70,
   "id": "83068798",
   "metadata": {},
   "outputs": [],
   "source": [
    "vol_ratio_df = full_stock_df[['date', 'ticker', 'vol_ratio']].copy()\n",
    "vol_ratio_df['date'] = vol_ratio_df['date'].astype(str)\n",
    "\n",
    "vol_ratio_df = vol_ratio_df.pivot(index=\"ticker\", columns=\"date\", values=\"vol_ratio\")\n",
    "vol_ratio_df['total_ratio'] = vol_ratio_df.sum(axis=1)\n",
    "vol_ratio_df = vol_ratio_df[vol_ratio_df.index.isin(stock_list)].sort_values(by='total_ratio', ascending=False).reset_index()"
   ]
  },
  {
   "cell_type": "code",
   "execution_count": 66,
   "id": "ee84a8f6",
   "metadata": {},
   "outputs": [],
   "source": [
    "mrvi_df = full_stock_df[['date', 'ticker', 'W_MRVI', 'M_MRVI', 'Q_MRVI', 'Y_MRVI']].copy()\n",
    "mrvi_df = mrvi_df[mrvi_df['date'] == today].drop(columns=['date'])\n",
    "mrvi_df = mrvi_df[mrvi_df['ticker'].isin(stock_list)]"
   ]
  },
  {
   "cell_type": "code",
   "execution_count": 71,
   "id": "a531144c",
   "metadata": {},
   "outputs": [],
   "source": [
    "mtsi_df = full_stock_df[['date', 'ticker', 'W_MTSI', 'M_MTSI', 'Q_MTSI', 'Y_MTSI']].copy()\n",
    "mtsi_df = mtsi_df[mtsi_df['date'] == today].drop(columns=['date'])\n",
    "mtsi_df = mtsi_df[mtsi_df['ticker'].isin(stock_list)]"
   ]
  },
  {
   "cell_type": "code",
   "execution_count": 73,
   "id": "fd972ff5",
   "metadata": {},
   "outputs": [],
   "source": [
    "with pd.ExcelWriter('../output/other/custom.xlsx') as writer:\n",
    "    vol_ratio_df.to_excel(writer, sheet_name='Vol_Ratio', index=False)\n",
    "    mrvi_df.to_excel(writer, sheet_name='MRVI', index=False)\n",
    "    mtsi_df.to_excel(writer, sheet_name='MTSI', index=False)"
   ]
  }
 ],
 "metadata": {
  "kernelspec": {
   "display_name": "base",
   "language": "python",
   "name": "python3"
  },
  "language_info": {
   "codemirror_mode": {
    "name": "ipython",
    "version": 3
   },
   "file_extension": ".py",
   "mimetype": "text/x-python",
   "name": "python",
   "nbconvert_exporter": "python",
   "pygments_lexer": "ipython3",
   "version": "3.12.7"
  }
 },
 "nbformat": 4,
 "nbformat_minor": 5
}
