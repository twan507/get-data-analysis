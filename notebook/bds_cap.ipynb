{
 "cells": [
  {
   "cell_type": "code",
   "execution_count": null,
   "id": "9e70ece9",
   "metadata": {},
   "outputs": [],
   "source": [
    "import sys\n",
    "import os\n",
    "import importlib\n",
    "sys.path.append(os.path.join(os.path.dirname(os.getcwd()), 'import'))\n",
    "sys.path.append(os.path.join(os.path.dirname(os.getcwd()), 'module'))\n",
    "\n",
    "import import_default\n",
    "import import_database\n",
    "\n",
    "importlib.reload(import_default)\n",
    "importlib.reload(import_database)\n",
    "\n",
    "from import_default import *\n",
    "from import_database import *"
   ]
  },
  {
   "cell_type": "code",
   "execution_count": 5,
   "id": "fa276af5",
   "metadata": {},
   "outputs": [],
   "source": [
    "date_series = get_mongo_collection(ref_db, 'date_series')\n",
    "name_map = get_mongo_collection(ref_db, \"name_map\")\n",
    "name_map_dict = name_map.set_index('code')['full_name'].to_dict()\n",
    "full_stock_classification_df = get_mongo_collection(ref_db, 'full_stock_classification')"
   ]
  },
  {
   "cell_type": "code",
   "execution_count": null,
   "id": "555fc603",
   "metadata": {},
   "outputs": [],
   "source": [
    "projection = {\"_id\": 0,\"date\": 1,\"ticker\": 1,\"open\": 1,\"high\": 1,\"low\": 1,\"close\": 1, \"volume\": 1, \"cap\": 1}\n",
    "today_index_df = get_mongo_collection(stock_db, \"today_index\", projection=projection)\n",
    "history_index_df = get_mongo_collection(stock_db, \"history_index\", projection=projection)\n",
    "full_index_df = pd.concat([today_index_df, history_index_df], axis=0, ignore_index=True)\n",
    "\n",
    "today_stock_df = get_mongo_collection(stock_db, \"today_stock\", projection=projection)\n",
    "history_stock_df = get_mongo_collection(stock_db, \"history_stock\", projection=projection)\n",
    "full_stock_df = pd.concat([today_stock_df, history_stock_df], axis=0, ignore_index=True)\n",
    "\n",
    "full_ticker_df = pd.concat([full_index_df, full_stock_df], axis=0, ignore_index=True)"
   ]
  },
  {
   "cell_type": "code",
   "execution_count": 50,
   "id": "4966c283",
   "metadata": {},
   "outputs": [],
   "source": [
    "full_stock_df['industry'] = full_stock_df['ticker'].map(full_stock_classification_df.set_index('ticker')['industry_name'])\n",
    "full_stock_df['fullname_industry'] = full_stock_df['ticker'].map(full_stock_classification_df.set_index('ticker')['fullname_industry'])\n",
    "bds_stock_df = full_stock_df[full_stock_df['industry'] == 'bds']\n",
    "\n",
    "bds_stock_list = []\n",
    "for stock in bds_stock_df['ticker'].unique():\n",
    "    temp_df = bds_stock_df[bds_stock_df['ticker'] == stock]\n",
    "    temp_df['cap'] = temp_df['close'] * (temp_df['cap'].iloc[0] / temp_df['close'].iloc[0])\n",
    "    max_cap = temp_df['cap'].max()\n",
    "    current_cap = temp_df[temp_df['date'] == date_series['date'].max()]['cap'].values[0]\n",
    "    bds_stock_list.append([stock, max_cap, current_cap])\n",
    "\n",
    "bds_cap_df = pd.DataFrame(bds_stock_list, columns=['ticker', 'max_cap', 'current_cap'])\n",
    "bds_cap_df.to_excel('../output/bds_cap_v3.xlsx', index=False)"
   ]
  }
 ],
 "metadata": {
  "kernelspec": {
   "display_name": "base",
   "language": "python",
   "name": "python3"
  },
  "language_info": {
   "codemirror_mode": {
    "name": "ipython",
    "version": 3
   },
   "file_extension": ".py",
   "mimetype": "text/x-python",
   "name": "python",
   "nbconvert_exporter": "python",
   "pygments_lexer": "ipython3",
   "version": "3.12.7"
  }
 },
 "nbformat": 4,
 "nbformat_minor": 5
}
